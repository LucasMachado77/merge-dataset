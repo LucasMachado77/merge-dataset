{
 "cells": [
  {
   "cell_type": "code",
   "execution_count": 1,
   "id": "a631c225-aae7-4b77-9c85-8fd60cc9fe4c",
   "metadata": {},
   "outputs": [],
   "source": [
    "import pandas as pd"
   ]
  },
  {
   "cell_type": "code",
   "execution_count": 2,
   "id": "defe1302-ef9c-4135-ba9f-5925b6349c45",
   "metadata": {},
   "outputs": [
    {
     "ename": "SyntaxError",
     "evalue": "incomplete input (3014912577.py, line 12)",
     "output_type": "error",
     "traceback": [
      "\u001b[1;36m  Cell \u001b[1;32mIn[2], line 12\u001b[1;36m\u001b[0m\n\u001b[1;33m    ):\u001b[0m\n\u001b[1;37m      ^\u001b[0m\n\u001b[1;31mSyntaxError\u001b[0m\u001b[1;31m:\u001b[0m incomplete input\n"
     ]
    }
   ],
   "source": [
    "def load_merge_master(\n",
    "    path,\n",
    "    split=None,\n",
    "    split_type='split_70_15_15',\n",
    "    quadrant=None,\n",
    "    year=None,\n",
    "    artist=None,\n",
    "    title=None,\n",
    "    genres=None,\n",
    "    return_cols=None,\n",
    "    as_copy=True\n",
    "):"
   ]
  },
  {
   "cell_type": "code",
   "execution_count": null,
   "id": "3d58e0b9-ae0c-43b1-a829-5530953f75be",
   "metadata": {},
   "outputs": [],
   "source": [
    "    \"\"\"\n",
    "    Loader flexível para os masters do MERGE Dataset.\n",
    "    \n",
    "    Parâmetros:\n",
    "        path (str): caminho do master_metadata (ex: 'metadata/master_metadata_audio_balanced.csv')\n",
    "        split (str): 'train', 'val', 'test', ou None (todos)\n",
    "        split_type (str): 'split_70_15_15' ou 'split_40_30_30'\n",
    "        quadrant (int or list): 1,2,3,4 ou lista deles, ou None (todos)\n",
    "        year (int or list): ano ou lista de anos (ex: 2020 ou [2019,2020]), ou None\n",
    "        artist (str or list): nome do artista ou lista (case-insensitive, match exato ou parcial)\n",
    "        title (str or list): nome do título ou lista (case-insensitive, match exato ou parcial)\n",
    "        genres (str or list): gênero(s) a buscar (parcial, case-insensitive)\n",
    "        return_cols (list): retorna apenas estas colunas (default: todas)\n",
    "        as_copy (bool): retorna uma cópia do DataFrame\n",
    "    Retorna:\n",
    "        pd.DataFrame: dados filtrados\n",
    "    \"\"\"\n",
    "    df = pd.read_csv(path)"
   ]
  },
  {
   "cell_type": "code",
   "execution_count": null,
   "id": "a2cb6899-94e3-4b8a-ac18-e28c81321bc2",
   "metadata": {},
   "outputs": [],
   "source": [
    "    # Filtro por split\n",
    "    if split is not None and split_type in df.columns:\n",
    "        df = df[df[split_type] == split]\n",
    "\n",
    "    # Filtro por quadrante\n",
    "    if quadrant is not None and 'quadrant' in df.columns:\n",
    "        if isinstance(quadrant, (list, tuple, set)):\n",
    "            df = df[df['quadrant'].isin(quadrant)]\n",
    "        else:\n",
    "            df = df[df['quadrant'] == quadrant]"
   ]
  },
  {
   "cell_type": "code",
   "execution_count": null,
   "id": "a785c23d-5a26-4239-9900-aa34ff7fd04a",
   "metadata": {},
   "outputs": [],
   "source": [
    "    # Filtro por ano\n",
    "    for ycol in ['year', 'Year', 'ActualYear']:\n",
    "        if year is not None and ycol in df.columns:\n",
    "            if isinstance(year, (list, tuple, set)):\n",
    "                df = df[df[ycol].isin(year)]\n",
    "            else:\n",
    "                df = df[df[ycol] == year]\n",
    "            break"
   ]
  },
  {
   "cell_type": "code",
   "execution_count": null,
   "id": "210a4208-00eb-467a-96cf-c620be13d997",
   "metadata": {},
   "outputs": [],
   "source": [
    "    # Filtro por artista\n",
    "    for acol in ['artist', 'Artist']:\n",
    "        if artist is not None and acol in df.columns:\n",
    "            if isinstance(artist, (list, tuple, set)):\n",
    "                df = df[df[acol].str.lower().isin([str(a).lower() for a in artist])]\n",
    "            else:\n",
    "                df = df[df[acol].str.lower().str.contains(str(artist).lower(), na=False)]\n",
    "            break"
   ]
  },
  {
   "cell_type": "code",
   "execution_count": null,
   "id": "a1adfe98-ab51-46c5-b069-8dd90f97ea60",
   "metadata": {},
   "outputs": [],
   "source": [
    "    # Filtro por título\n",
    "    for tcol in ['title', 'Title']:\n",
    "        if title is not None and tcol in df.columns:\n",
    "            if isinstance(title, (list, tuple, set)):\n",
    "                mask = df[tcol].str.lower().isin([str(t).lower() for t in title])\n",
    "                df = df[mask]\n",
    "            else:\n",
    "                df = df[df[tcol].str.lower().str.contains(str(title).lower(), na=False)]\n",
    "            break"
   ]
  },
  {
   "cell_type": "code",
   "execution_count": null,
   "id": "399de4a9-8c9a-4894-a330-93749d3fed79",
   "metadata": {},
   "outputs": [],
   "source": [
    "    # Filtro por gêneros\n",
    "    for gcol in ['genres', 'Genres']:\n",
    "        if genres is not None and gcol in df.columns:\n",
    "            if isinstance(genres, (list, tuple, set)):\n",
    "                mask = df[gcol].str.lower().apply(lambda x: any(g.lower() in str(x) for g in genres))\n",
    "            else:\n",
    "                mask = df[gcol].str.lower().str.contains(str(genres).lower(), na=False)\n",
    "            df = df[mask]\n",
    "            break"
   ]
  },
  {
   "cell_type": "code",
   "execution_count": null,
   "id": "e8a59a50-a265-4828-aa76-f3c501ac0689",
   "metadata": {},
   "outputs": [],
   "source": [
    "    # Seleção de colunas finais\n",
    "    if return_cols:\n",
    "        df = df[return_cols]"
   ]
  },
  {
   "cell_type": "code",
   "execution_count": null,
   "id": "8d53b2c2-0fb1-4bf3-abe1-27559b9cc37f",
   "metadata": {},
   "outputs": [],
   "source": [
    "return df.copy() if as_copy else df"
   ]
  },
  {
   "cell_type": "code",
   "execution_count": null,
   "id": "1ea348c8-8055-4b5a-a08d-3c6959c4f280",
   "metadata": {},
   "outputs": [],
   "source": [
    "# Exemplo de uso direto pelo terminal/python\n",
    "if __name__ == '__main__':\n",
    "    df = load_merge_master(\n",
    "        '../metadata/master_metadata_audio_balanced.csv',\n",
    "        split='train',\n",
    "        split_type='split_70_15_15',\n",
    "        quadrant=[1, 2],\n",
    "        year=2010,\n",
    "        artist='Adele',\n",
    "        genres='pop'\n",
    "    )\n",
    "    print(df.head())"
   ]
  },
  {
   "cell_type": "code",
   "execution_count": null,
   "id": "929206c5-621f-4f51-b5d0-ca8b104d0ac4",
   "metadata": {},
   "outputs": [],
   "source": [
    "from scripts.loader import load_merge_master\n",
    "\n",
    "# Carregar apenas os dados de treino do split 70/15/15 e quadrante 2\n",
    "df = load_merge_master('metadata/master_metadata_audio_balanced.csv', split='train', split_type='split_70_15_15', quadrant=2)\n",
    "print(df.head())\n"
   ]
  },
  {
   "cell_type": "code",
   "execution_count": null,
   "id": "fd2866b5-b1d6-4c57-81e5-482ae9e16261",
   "metadata": {},
   "outputs": [],
   "source": [
    "import pandas as pd\n",
    "\n",
    "# ===============================\n",
    "#    Funções Auxiliares (Helpers)\n",
    "# ===============================\n",
    "\n",
    "def _filter_by_column(df, value, columns):\n",
    "    \"\"\"Filtra o DataFrame por qualquer uma das colunas possíveis, suporta listas e case-insensitive.\"\"\"\n",
    "    for col in columns:\n",
    "        if col in df.columns:\n",
    "            if isinstance(value, (list, tuple, set)):\n",
    "                # Para listas: comparação exata (exceto strings)\n",
    "                if df[col].dtype == object:\n",
    "                    return df[df[col].str.lower().isin([str(v).lower() for v in value])]\n",
    "                else:\n",
    "                    return df[df[col].isin(value)]\n",
    "            else:\n",
    "                # Para strings: busca parcial e case-insensitive\n",
    "                if isinstance(value, str):\n",
    "                    return df[df[col].str.lower().str.contains(value.lower(), na=False)]\n",
    "                else:\n",
    "                    return df[df[col] == value]\n",
    "    return df\n",
    "\n",
    "# ===============================\n",
    "#    Loader Principal\n",
    "# ===============================\n",
    "\n",
    "def load_merge_master(\n",
    "    path,\n",
    "    split=None,\n",
    "    split_type='split_70_15_15',\n",
    "    quadrant=None,\n",
    "    year=None,\n",
    "    artist=None,\n",
    "    title=None,\n",
    "    genres=None,\n",
    "    return_cols=None,\n",
    "    as_copy=True\n",
    "):\n",
    "    \"\"\"\n",
    "    Loader flexível para os masters do MERGE Dataset.\n",
    "\n",
    "    Parâmetros detalhados em schema/data_dictionary.md.\n",
    "    \"\"\"\n",
    "\n",
    "    df = pd.read_csv(path)\n",
    "\n",
    "    # Filtros principais\n",
    "    if split is not None and split_type in df.columns:\n",
    "        df = df[df[split_type] == split]\n",
    "\n",
    "    if quadrant is not None and 'quadrant' in df.columns:\n",
    "        if isinstance(quadrant, (list, tuple, set)):\n",
    "            df = df[df['quadrant'].isin(quadrant)]\n",
    "        else:\n",
    "            df = df[df['quadrant'] == quadrant]\n",
    "\n",
    "    if year is not None:\n",
    "        df = _filter_by_column(df, year, ['year', 'Year', 'ActualYear'])\n",
    "\n",
    "    if artist is not None:\n",
    "        df = _filter_by_column(df, artist, ['artist', 'Artist'])\n",
    "\n",
    "    if title is not None:\n",
    "        df = _filter_by_column(df, title, ['title', 'Title'])\n",
    "\n",
    "    if genres is not None:\n",
    "        df = _filter_by_column(df, genres, ['genres', 'Genres'])\n",
    "\n",
    "    # Seleção de colunas finais (opcional)\n",
    "    if return_cols:\n",
    "        df = df[return_cols]\n",
    "\n",
    "    return df.copy() if as_copy else df\n",
    "\n",
    "# ===============================\n",
    "#    Exemplo de Uso \n",
    "# ===============================\n",
    "\n",
    "if __name__ == '__main__':\n",
    "    # Exemplo: carregando apenas músicas de treino do quadrante 1, ano 2010, gênero 'pop'\n",
    "    df = load_merge_master(\n",
    "        '../metadata/master_metadata_audio_balanced.csv',\n",
    "        split='train',\n",
    "        split_type='split_70_15_15',\n",
    "        quadrant=1,\n",
    "        year=2010,\n",
    "        genres='pop'\n",
    "    )\n",
    "    print(df.head())\n",
    "\n",
    "    # Exemplo: buscar músicas por artista 'adele'\n",
    "    df_adele = load_merge_master(\n",
    "        '../metadata/master_metadata_audio_balanced.csv',\n",
    "        artist='adele'\n",
    "    )\n",
    "    print(df_adele[['song_id', 'artist', 'title']].head())"
   ]
  }
 ],
 "metadata": {
  "kernelspec": {
   "display_name": "Python [conda env:base] *",
   "language": "python",
   "name": "conda-base-py"
  },
  "language_info": {
   "codemirror_mode": {
    "name": "ipython",
    "version": 3
   },
   "file_extension": ".py",
   "mimetype": "text/x-python",
   "name": "python",
   "nbconvert_exporter": "python",
   "pygments_lexer": "ipython3",
   "version": "3.12.7"
  }
 },
 "nbformat": 4,
 "nbformat_minor": 5
}
