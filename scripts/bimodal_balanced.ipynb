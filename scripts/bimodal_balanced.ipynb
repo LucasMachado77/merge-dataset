{
 "cells": [
  {
   "cell_type": "code",
   "execution_count": 23,
   "id": "8e858bca-63c6-4e6d-ae65-e28849e08c41",
   "metadata": {},
   "outputs": [],
   "source": [
    "import pandas as pd\n",
    "\n",
    "# 1. Caminho base arquivos\n",
    "base_path = 'C:/Users/Lucas/Desktop/Master/Big Data/merge-dataset/MERGE_Bimodal_Balanced/'"
   ]
  },
  {
   "cell_type": "code",
   "execution_count": 24,
   "id": "aa3e59f4-d98c-496f-b065-2a7733e66a4c",
   "metadata": {},
   "outputs": [],
   "source": [
    "# 2. Carregar metadados\n",
    "df_meta = pd.read_csv(base_path + 'merge_bimodal_balanced_metadata.csv')\n",
    "\n",
    "# Renomear Audio_Song para song_id\n",
    "df_meta = df_meta.rename(columns={'Audio_Song': 'song_id'})"
   ]
  },
  {
   "cell_type": "code",
   "execution_count": 25,
   "id": "c308e10c-95e2-4854-bba2-db6290baddfd",
   "metadata": {},
   "outputs": [],
   "source": [
    "# 3. Valores de emoção\n",
    "df_av = pd.read_csv(base_path + 'merge_bimodal_balanced_av_values.csv')\n",
    "df_av = df_av.rename(columns={'Audio_Song': 'song_id'})\n",
    "df_av = df_av[['song_id', 'Arousal', 'Valence']]\n",
    "df_av.columns = ['song_id', 'arousal', 'valence']"
   ]
  },
  {
   "cell_type": "code",
   "execution_count": 26,
   "id": "60ad7a03-a1a5-474c-b3bb-d19b2b1db278",
   "metadata": {},
   "outputs": [],
   "source": [
    "# 4. Função para splits\n",
    "def load_split(split_files, split_names):\n",
    "    dfs = []\n",
    "    for file, split in zip(split_files, split_names):\n",
    "        df = pd.read_csv(file, header=None, names=['song_id'])\n",
    "        df['split'] = split\n",
    "        dfs.append(df)\n",
    "    return pd.concat(dfs, ignore_index=True)"
   ]
  },
  {
   "cell_type": "code",
   "execution_count": 27,
   "id": "c508e661-91c4-4f6c-981e-dd3c57a4b716",
   "metadata": {},
   "outputs": [],
   "source": [
    "# 5. Splits 40-30-30\n",
    "split_files_40 = [\n",
    "    base_path + 'tvt_dataframes/tvt_40_30_30/tvt_40_30_30_train_bimodal_balanced.csv',\n",
    "    base_path + 'tvt_dataframes/tvt_40_30_30/tvt_40_30_30_validate_bimodal_balanced.csv',\n",
    "    base_path + 'tvt_dataframes/tvt_40_30_30/tvt_40_30_30_test_bimodal_balanced.csv'\n",
    "]\n",
    "split_names_40 = ['train', 'val', 'test']\n",
    "df_split_40 = load_split(split_files_40, split_names_40)\n",
    "df_split_40.columns = ['song_id', 'split_40_30_30']"
   ]
  },
  {
   "cell_type": "code",
   "execution_count": 28,
   "id": "c44abac2-bc1f-4fac-b591-5bb150252c79",
   "metadata": {},
   "outputs": [],
   "source": [
    "# 6. Splits 70-15-15\n",
    "split_files_70 = [\n",
    "    base_path + 'tvt_dataframes/tvt_70_15_15/tvt_70_15_15_train_bimodal_balanced.csv',\n",
    "    base_path + 'tvt_dataframes/tvt_70_15_15/tvt_70_15_15_validate_bimodal_balanced.csv',\n",
    "    base_path + 'tvt_dataframes/tvt_70_15_15/tvt_70_15_15_test_bimodal_balanced.csv'\n",
    "]\n",
    "split_names_70 = ['train', 'val', 'test']\n",
    "df_split_70 = load_split(split_files_70, split_names_70)\n",
    "df_split_70.columns = ['song_id', 'split_70_15_15']"
   ]
  },
  {
   "cell_type": "code",
   "execution_count": 29,
   "id": "fd79cddf-75bd-49e8-878b-b73d603207db",
   "metadata": {},
   "outputs": [],
   "source": [
    "# 7. Merge\n",
    "df = df_meta.merge(df_av, on='song_id', how='left')\n",
    "df = df.merge(df_split_40, on='song_id', how='left')\n",
    "df = df.merge(df_split_70, on='song_id', how='left')"
   ]
  },
  {
   "cell_type": "code",
   "execution_count": 30,
   "id": "87a88bc1-1daa-446c-92bd-8afec8823b30",
   "metadata": {},
   "outputs": [],
   "source": [
    "# 8. Ordena colunas (ajustável)\n",
    "first_cols = ['song_id', 'quadrant', 'arousal', 'valence', 'split_40_30_30', 'split_70_15_15']\n",
    "existing_first_cols = [col for col in first_cols if col in df.columns]\n",
    "df = df[existing_first_cols + [col for col in df.columns if col not in existing_first_cols]]"
   ]
  },
  {
   "cell_type": "code",
   "execution_count": 32,
   "id": "530ea176-6a6e-4268-ac79-39998d0a0da5",
   "metadata": {},
   "outputs": [
    {
     "name": "stdout",
     "output_type": "stream",
     "text": [
      "['song_id', 'arousal', 'valence', 'split_40_30_30', 'split_70_15_15', 'Lyric_Song', 'Quadrant', 'AllMusic Id', 'AllMusic Extraction Date', 'Artist', 'Title', 'Relevance', 'Year', 'LowestYear', 'Duration', 'Moods', 'MoodsAll', 'MoodsAllWeights', 'Genres', 'GenreWeights', 'Themes', 'ThemeWeights', 'Styles', 'StyleWeights', 'AppearancesTrackIDs', 'AppearancesAlbumIDs', 'Sample', 'SampleURL', 'ActualYear', 'num_Genres', 'num_MoodsAll']\n"
     ]
    }
   ],
   "source": [
    "print(df.columns.tolist())"
   ]
  },
  {
   "cell_type": "code",
   "execution_count": 31,
   "id": "723c7c6c-7a79-43ff-853c-ff1a05136b69",
   "metadata": {},
   "outputs": [
    {
     "name": "stdout",
     "output_type": "stream",
     "text": [
      "Arquivo master_metadata_bimodal_balanced.csv criado com sucesso!\n"
     ]
    }
   ],
   "source": [
    "# 9. Salva\n",
    "df.to_csv('master_metadata_bimodal_balanced.csv', index=False)\n",
    "print('Arquivo master_metadata_bimodal_balanced.csv criado com sucesso!')"
   ]
  },
  {
   "cell_type": "code",
   "execution_count": null,
   "id": "8cc8ffbb-10e0-4318-905d-1e77bdcef4d8",
   "metadata": {},
   "outputs": [],
   "source": []
  }
 ],
 "metadata": {
  "kernelspec": {
   "display_name": "Python [conda env:base] *",
   "language": "python",
   "name": "conda-base-py"
  },
  "language_info": {
   "codemirror_mode": {
    "name": "ipython",
    "version": 3
   },
   "file_extension": ".py",
   "mimetype": "text/x-python",
   "name": "python",
   "nbconvert_exporter": "python",
   "pygments_lexer": "ipython3",
   "version": "3.12.7"
  }
 },
 "nbformat": 4,
 "nbformat_minor": 5
}
