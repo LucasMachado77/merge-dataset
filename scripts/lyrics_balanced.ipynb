{
 "cells": [
  {
   "cell_type": "code",
   "execution_count": 1,
   "id": "2e97f2af-6cda-42a0-8afe-5612b7651dfe",
   "metadata": {},
   "outputs": [],
   "source": [
    "import pandas as pd\n",
    "\n",
    "# Caminho base dos arquivos\n",
    "base_path = 'C:/Users/Lucas/Desktop/Master/Big Data/merge-dataset/MERGE_Lyrics_Balanced/'"
   ]
  },
  {
   "cell_type": "code",
   "execution_count": 2,
   "id": "16880ff2-738e-4298-a533-244806ac896e",
   "metadata": {},
   "outputs": [],
   "source": [
    "# 1. Carregar metadados e renomear Song para song_id\n",
    "df_meta = pd.read_csv(base_path + 'merge_lyrics_balanced_metadata.csv')\n",
    "if 'Song' in df_meta.columns:\n",
    "    df_meta = df_meta.rename(columns={'Song': 'song_id'})"
   ]
  },
  {
   "cell_type": "code",
   "execution_count": 3,
   "id": "7d573bcd-3c83-4e4e-955b-b80eec65e1c4",
   "metadata": {},
   "outputs": [],
   "source": [
    "# 2. Carregar valores de emoção\n",
    "df_av = pd.read_csv(base_path + 'merge_lyrics_balanced_av_values.csv')\n",
    "if 'Song' in df_av.columns:\n",
    "    df_av = df_av.rename(columns={'Song': 'song_id'})\n",
    "df_av = df_av[['song_id', 'Arousal', 'Valence']]\n",
    "df_av.columns = ['song_id', 'arousal', 'valence']"
   ]
  },
  {
   "cell_type": "code",
   "execution_count": 4,
   "id": "a883a14d-e8e1-47f2-8a78-06df73cef977",
   "metadata": {},
   "outputs": [],
   "source": [
    "# 3. Função para ler arquivos de split\n",
    "def load_split(split_files, split_names):\n",
    "    dfs = []\n",
    "    for file, split in zip(split_files, split_names):\n",
    "        df = pd.read_csv(file, header=None, names=['song_id'])\n",
    "        df['split'] = split\n",
    "        dfs.append(df)\n",
    "    return pd.concat(dfs, ignore_index=True)"
   ]
  },
  {
   "cell_type": "code",
   "execution_count": 5,
   "id": "3035cc90-30e9-4878-92a0-e4027bbe9d98",
   "metadata": {},
   "outputs": [],
   "source": [
    "# 4. Splits 40-30-30\n",
    "split_files_40 = [\n",
    "    base_path + 'tvt_dataframes/tvt_40_30_30/tvt_40_30_30_train_lyrics_balanced.csv',\n",
    "    base_path + 'tvt_dataframes/tvt_40_30_30/tvt_40_30_30_validate_lyrics_balanced.csv',\n",
    "    base_path + 'tvt_dataframes/tvt_40_30_30/tvt_40_30_30_test_lyrics_balanced.csv'\n",
    "]\n",
    "split_names_40 = ['train', 'val', 'test']\n",
    "df_split_40 = load_split(split_files_40, split_names_40)\n",
    "df_split_40.columns = ['song_id', 'split_40_30_30']"
   ]
  },
  {
   "cell_type": "code",
   "execution_count": 6,
   "id": "3716c8fc-f9a7-4fe2-a42c-6c20a651a894",
   "metadata": {},
   "outputs": [],
   "source": [
    "# 5. Splits 70-15-15\n",
    "split_files_70 = [\n",
    "    base_path + 'tvt_dataframes/tvt_70_15_15/tvt_70_15_15_train_lyrics_balanced.csv',\n",
    "    base_path + 'tvt_dataframes/tvt_70_15_15/tvt_70_15_15_validate_lyrics_balanced.csv',\n",
    "    base_path + 'tvt_dataframes/tvt_70_15_15/tvt_70_15_15_test_lyrics_balanced.csv'\n",
    "]\n",
    "split_names_70 = ['train', 'val', 'test']\n",
    "df_split_70 = load_split(split_files_70, split_names_70)\n",
    "df_split_70.columns = ['song_id', 'split_70_15_15']"
   ]
  },
  {
   "cell_type": "code",
   "execution_count": 7,
   "id": "de0d628f-cd4f-42cd-a4c1-e0f216fe19e2",
   "metadata": {},
   "outputs": [],
   "source": [
    "# 6. Merge dos dataframes\n",
    "df = df_meta.merge(df_av, on='song_id', how='left')\n",
    "df = df.merge(df_split_40, on='song_id', how='left')\n",
    "df = df.merge(df_split_70, on='song_id', how='left')"
   ]
  },
  {
   "cell_type": "code",
   "execution_count": 8,
   "id": "b405527a-b1f4-4462-aee1-48151779be07",
   "metadata": {},
   "outputs": [],
   "source": [
    "# 7. Ordenar colunas principais na frente\n",
    "first_cols = ['song_id', 'quadrant', 'arousal', 'valence', 'split_40_30_30', 'split_70_15_15']\n",
    "existing_first_cols = [col for col in first_cols if col in df.columns]\n",
    "df = df[existing_first_cols + [col for col in df.columns if col not in existing_first_cols]]"
   ]
  },
  {
   "cell_type": "code",
   "execution_count": 9,
   "id": "1198185a-c717-4db3-89e1-34e98d4903ce",
   "metadata": {},
   "outputs": [
    {
     "name": "stdout",
     "output_type": "stream",
     "text": [
      "Arquivo master_metadata_lyrics_balanced.csv criado com sucesso!\n"
     ]
    }
   ],
   "source": [
    "# 8. Salvar\n",
    "df.to_csv('master_metadata_lyrics_balanced.csv', index=False)\n",
    "print('Arquivo master_metadata_lyrics_balanced.csv criado com sucesso!')"
   ]
  },
  {
   "cell_type": "code",
   "execution_count": null,
   "id": "be3ad621-2d26-4b7c-87d4-91d210644d7d",
   "metadata": {},
   "outputs": [],
   "source": []
  }
 ],
 "metadata": {
  "kernelspec": {
   "display_name": "Python [conda env:base] *",
   "language": "python",
   "name": "conda-base-py"
  },
  "language_info": {
   "codemirror_mode": {
    "name": "ipython",
    "version": 3
   },
   "file_extension": ".py",
   "mimetype": "text/x-python",
   "name": "python",
   "nbconvert_exporter": "python",
   "pygments_lexer": "ipython3",
   "version": "3.12.7"
  }
 },
 "nbformat": 4,
 "nbformat_minor": 5
}
