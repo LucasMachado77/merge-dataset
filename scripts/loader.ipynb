{
 "cells": [
  {
   "cell_type": "code",
   "execution_count": 3,
   "id": "ae0d902e-c3ae-4cee-b781-f681e31f960e",
   "metadata": {},
   "outputs": [],
   "source": [
    "import pandas as pd"
   ]
  },
  {
   "cell_type": "markdown",
   "id": "dfdbc6af-c9d9-4ffe-a490-ac4eccc8dd75",
   "metadata": {},
   "source": [
    "# ===============================\n",
    "#    Funções Auxiliares (Helpers)\n",
    "# ==============================="
   ]
  },
  {
   "cell_type": "markdown",
   "id": "c000756a-29da-439a-ba28-a03f5d2ab792",
   "metadata": {},
   "source": [
    "    \"\"\"\n",
    "    Loader flexível para os masters do MERGE Dataset.\n",
    "    \n",
    "    Parâmetros:\n",
    "        path (str): caminho do master_metadata (ex: 'metadata/master_metadata_audio_balanced.csv')\n",
    "        split (str): 'train', 'val', 'test', ou None (todos)\n",
    "        split_type (str): 'split_70_15_15' ou 'split_40_30_30'\n",
    "        quadrant (int or list): 1,2,3,4 ou lista deles, ou None (todos)\n",
    "        year (int or list): ano ou lista de anos (ex: 2020 ou [2019,2020]), ou None\n",
    "        artist (str or list): nome do artista ou lista (case-insensitive, match exato ou parcial)\n",
    "        title (str or list): nome do título ou lista (case-insensitive, match exato ou parcial)\n",
    "        genres (str or list): gênero(s) a buscar (parcial, case-insensitive)\n",
    "        return_cols (list): retorna apenas estas colunas (default: todas)\n",
    "        as_copy (bool): retorna uma cópia do DataFrame\n",
    "    Retorna:\n",
    "        pd.DataFrame: dados filtrados\n",
    "    \"\"\""
   ]
  },
  {
   "cell_type": "code",
   "execution_count": 4,
   "id": "25f7192f-d27a-47ff-b1c9-e1516e4a3d70",
   "metadata": {},
   "outputs": [],
   "source": [
    "def _filter_by_column(df, value, columns):\n",
    "    \"\"\"Filtra o DataFrame por qualquer uma das colunas possíveis, suporta listas e case-insensitive.\"\"\"\n",
    "    for col in columns:\n",
    "        if col in df.columns:\n",
    "            if isinstance(value, (list, tuple, set)):\n",
    "\n",
    "                # Para listas: comparação exata (exceto strings)\n",
    "                if df[col].dtype == object:\n",
    "                    return df[df[col].str.lower().isin([str(v).lower() for v in value])]\n",
    "                else:\n",
    "                    return df[df[col].isin(value)]\n",
    "            else:\n",
    "                # Para strings: busca parcial e case-insensitive\n",
    "                if isinstance(value, str):\n",
    "                    return df[df[col].str.lower().str.contains(value.lower(), na=False)]\n",
    "                else:\n",
    "                    return df[df[col] == value]\n",
    "    return df"
   ]
  },
  {
   "cell_type": "markdown",
   "id": "e03b374f-9201-4d90-a465-c44df21f10a9",
   "metadata": {},
   "source": [
    "# ===============================\n",
    "#    Loader Principal\n",
    "# ==============================="
   ]
  },
  {
   "cell_type": "code",
   "execution_count": 5,
   "id": "84d32a9d-7b2d-4971-9231-84626ddfaf51",
   "metadata": {},
   "outputs": [],
   "source": [
    "def load_merge_master(\n",
    "    path,\n",
    "    split=None,\n",
    "    split_type='split_70_15_15',\n",
    "    quadrant=None,\n",
    "    year=None,\n",
    "    artist=None,\n",
    "    title=None,\n",
    "    genres=None,\n",
    "    return_cols=None,\n",
    "    as_copy=True\n",
    "):\n",
    "    \"\"\"\n",
    "    Loader flexível para os masters do MERGE Dataset.\n",
    "\n",
    "    Parâmetros detalhados em schema/data_dictionary.md.\n",
    "    \"\"\"\n",
    "\n",
    "    df = pd.read_csv(path)\n",
    "    # Padroniza as colunas para minúsculas para consistência\n",
    "    df.columns = [c.lower() for c in df.columns]\n",
    "\n",
    "    # Filtros principais\n",
    "    if split is not None and split_type in df.columns:\n",
    "        df = df[df[split_type] == split]\n",
    "\n",
    "    if quadrant is not None and 'quadrant' in df.columns:\n",
    "        if isinstance(quadrant, (list, tuple, set)):\n",
    "            df = df[df['quadrant'].isin(quadrant)]\n",
    "        else:\n",
    "            df = df[df['quadrant'] == quadrant]\n",
    "\n",
    "    if year is not None:\n",
    "        df = _filter_by_column(df, year, ['year', 'actualyear'])\n",
    "\n",
    "    if artist is not None:\n",
    "        df = _filter_by_column(df, artist, ['artist'])\n",
    "\n",
    "    if title is not None:\n",
    "        df = _filter_by_column(df, title, ['title'])\n",
    "\n",
    "    if genres is not None:\n",
    "        df = _filter_by_column(df, genres, ['genres'])\n",
    "\n",
    "    # Seleção de colunas finais (opcional)\n",
    "    if return_cols:\n",
    "        # Filtra apenas as colunas que realmente existem no DataFrame\n",
    "        existing_cols = [col for col in return_cols if col in df.columns]\n",
    "        df = df[existing_cols]\n",
    "\n",
    "    return df.copy() if as_copy else df"
   ]
  },
  {
   "cell_type": "code",
   "execution_count": null,
   "id": "24f6dbac-7f6f-4f16-9e09-888388ec63fb",
   "metadata": {},
   "outputs": [],
   "source": []
  },
  {
   "cell_type": "code",
   "execution_count": null,
   "id": "e68a23d2-878d-4de6-9224-de6b73c3d1bf",
   "metadata": {},
   "outputs": [],
   "source": []
  },
  {
   "cell_type": "code",
   "execution_count": null,
   "id": "bb09685d-d609-421b-b6a2-2d9ee1c53208",
   "metadata": {},
   "outputs": [],
   "source": []
  },
  {
   "cell_type": "code",
   "execution_count": null,
   "id": "4f4be830-5918-4f31-af8b-2cf1d957c6b3",
   "metadata": {},
   "outputs": [],
   "source": []
  },
  {
   "cell_type": "code",
   "execution_count": null,
   "id": "5488f50a-7762-4edb-9722-bed31a88f879",
   "metadata": {},
   "outputs": [],
   "source": []
  },
  {
   "cell_type": "code",
   "execution_count": null,
   "id": "bcf54abe-7a37-478f-b199-b39d5c715261",
   "metadata": {},
   "outputs": [],
   "source": []
  }
 ],
 "metadata": {
  "kernelspec": {
   "display_name": "Python 3 (ipykernel)",
   "language": "python",
   "name": "python3"
  },
  "language_info": {
   "codemirror_mode": {
    "name": "ipython",
    "version": 3
   },
   "file_extension": ".py",
   "mimetype": "text/x-python",
   "name": "python",
   "nbconvert_exporter": "python",
   "pygments_lexer": "ipython3",
   "version": "3.13.5"
  }
 },
 "nbformat": 4,
 "nbformat_minor": 5
}
