{
 "cells": [
  {
   "cell_type": "code",
   "execution_count": 20,
   "id": "ae0d902e-c3ae-4cee-b781-f681e31f960e",
   "metadata": {},
   "outputs": [],
   "source": [
    "import pandas as pd"
   ]
  },
  {
   "cell_type": "markdown",
   "id": "dfdbc6af-c9d9-4ffe-a490-ac4eccc8dd75",
   "metadata": {},
   "source": [
    "# ===============================\n",
    "#    Funções Auxiliares (Helpers)\n",
    "# ==============================="
   ]
  },
  {
   "cell_type": "markdown",
   "id": "c000756a-29da-439a-ba28-a03f5d2ab792",
   "metadata": {},
   "source": [
    "    \"\"\"\n",
    "    Loader flexível para os masters do MERGE Dataset.\n",
    "    \n",
    "    Parâmetros:\n",
    "        path (str): caminho do master_metadata (ex: 'metadata/master_metadata_audio_balanced.csv')\n",
    "        split (str): 'train', 'val', 'test', ou None (todos)\n",
    "        split_type (str): 'split_70_15_15' ou 'split_40_30_30'\n",
    "        quadrant (int or list): 1,2,3,4 ou lista deles, ou None (todos)\n",
    "        year (int or list): ano ou lista de anos (ex: 2020 ou [2019,2020]), ou None\n",
    "        artist (str or list): nome do artista ou lista (case-insensitive, match exato ou parcial)\n",
    "        title (str or list): nome do título ou lista (case-insensitive, match exato ou parcial)\n",
    "        genres (str or list): gênero(s) a buscar (parcial, case-insensitive)\n",
    "        return_cols (list): retorna apenas estas colunas (default: todas)\n",
    "        as_copy (bool): retorna uma cópia do DataFrame\n",
    "    Retorna:\n",
    "        pd.DataFrame: dados filtrados\n",
    "    \"\"\""
   ]
  },
  {
   "cell_type": "code",
   "execution_count": 11,
   "id": "25f7192f-d27a-47ff-b1c9-e1516e4a3d70",
   "metadata": {},
   "outputs": [],
   "source": [
    "def _filter_by_column(df, value, columns):\n",
    "    \"\"\"Filtra o DataFrame por qualquer uma das colunas possíveis, suporta listas e case-insensitive.\"\"\"\n",
    "    for col in columns:\n",
    "        if col in df.columns:\n",
    "            if isinstance(value, (list, tuple, set)):\n",
    "                \n",
    "                # Para listas: comparação exata (exceto strings)\n",
    "                if df[col].dtype == object:\n",
    "                    return df[df[col].str.lower().isin([str(v).lower() for v in value])]\n",
    "                else:\n",
    "                    return df[df[col].isin(value)]\n",
    "            else:\n",
    "                # Para strings: busca parcial e case-insensitive\n",
    "                if isinstance(value, str):\n",
    "                    return df[df[col].str.lower().str.contains(value.lower(), na=False)]\n",
    "                else:\n",
    "                    return df[df[col] == value]\n",
    "    return df"
   ]
  },
  {
   "cell_type": "markdown",
   "id": "e03b374f-9201-4d90-a465-c44df21f10a9",
   "metadata": {},
   "source": [
    "# ===============================\n",
    "#    Loader Principal\n",
    "# ==============================="
   ]
  },
  {
   "cell_type": "code",
   "execution_count": 18,
   "id": "424f352c-0250-4672-811e-3d1d98737425",
   "metadata": {},
   "outputs": [],
   "source": [
    "def load_merge_master(\n",
    "    path,\n",
    "    split=None,\n",
    "    split_type='split_70_15_15',\n",
    "    quadrant=None,\n",
    "    year=None,\n",
    "    artist=None,\n",
    "    title=None,\n",
    "    genres=None,\n",
    "    return_cols=None,\n",
    "    as_copy=True\n",
    "):\n",
    "    \"\"\"\n",
    "    Loader flexível para os masters do MERGE Dataset.\n",
    "\n",
    "    Parâmetros detalhados em schema/data_dictionary.md.\n",
    "    \"\"\"\n",
    "\n",
    "    df = pd.read_csv(path)\n",
    "    df.columns = [c.lower() for c in df.columns]\n",
    "\n",
    "    # Filtros principais\n",
    "    if split is not None and split_type in df.columns:\n",
    "        df = df[df[split_type] == split]\n",
    "\n",
    "    if quadrant is not None and 'quadrant' in df.columns:\n",
    "        if isinstance(quadrant, (list, tuple, set)):\n",
    "            df = df[df['quadrant'].isin(quadrant)]\n",
    "        else:\n",
    "            df = df[df['quadrant'] == quadrant]\n",
    "\n",
    "    if year is not None:\n",
    "        df = _filter_by_column(df, year, ['year', 'Year', 'ActualYear'])\n",
    "\n",
    "    if artist is not None:\n",
    "        df = _filter_by_column(df, artist, ['artist', 'Artist'])\n",
    "\n",
    "    if title is not None:\n",
    "        df = _filter_by_column(df, title, ['title', 'Title'])\n",
    "\n",
    "    if genres is not None:\n",
    "        df = _filter_by_column(df, genres, ['genres', 'Genres'])\n",
    "\n",
    "    # Seleção de colunas finais (opcional)\n",
    "    if return_cols:\n",
    "        df = df[return_cols]\n",
    "\n",
    "    return df.copy() if as_copy else df"
   ]
  },
  {
   "cell_type": "code",
   "execution_count": 12,
   "id": "db6ab4ff-e30d-4769-9593-b11551ee7d32",
   "metadata": {},
   "outputs": [
    {
     "ename": "NameError",
     "evalue": "name 'split' is not defined",
     "output_type": "error",
     "traceback": [
      "\u001b[1;31m---------------------------------------------------------------------------\u001b[0m",
      "\u001b[1;31mNameError\u001b[0m                                 Traceback (most recent call last)",
      "Cell \u001b[1;32mIn[12], line 2\u001b[0m\n\u001b[0;32m      1\u001b[0m \u001b[38;5;66;03m# Filtro por split\u001b[39;00m\n\u001b[1;32m----> 2\u001b[0m \u001b[38;5;28;01mif\u001b[39;00m split \u001b[38;5;129;01mis\u001b[39;00m \u001b[38;5;129;01mnot\u001b[39;00m \u001b[38;5;28;01mNone\u001b[39;00m \u001b[38;5;129;01mand\u001b[39;00m split_type \u001b[38;5;129;01min\u001b[39;00m df\u001b[38;5;241m.\u001b[39mcolumns:\n\u001b[0;32m      3\u001b[0m     df \u001b[38;5;241m=\u001b[39m df[df[split_type] \u001b[38;5;241m==\u001b[39m split]\n\u001b[0;32m      5\u001b[0m \u001b[38;5;66;03m# Filtro por quadrante\u001b[39;00m\n",
      "\u001b[1;31mNameError\u001b[0m: name 'split' is not defined"
     ]
    }
   ],
   "source": [
    "    # Filtro por split\n",
    "    if split is not None and split_type in df.columns:\n",
    "        df = df[df[split_type] == split]\n",
    "\n",
    "    # Filtro por quadrante\n",
    "    if quadrant is not None and 'quadrant' in df.columns:\n",
    "        if isinstance(quadrant, (list, tuple, set)):\n",
    "            df = df[df['quadrant'].isin(quadrant)]\n",
    "        else:\n",
    "            df = df[df['quadrant'] == quadrant]\n",
    "\n",
    "    # Filtro por ano\n",
    "    for ycol in ['year', 'Year', 'ActualYear']:\n",
    "        if year is not None and ycol in df.columns:\n",
    "            if isinstance(year, (list, tuple, set)):\n",
    "                df = df[df[ycol].isin(year)]\n",
    "            else:\n",
    "                df = df[df[ycol] == year]\n",
    "            break\n",
    "\n",
    "    # Filtro por artista\n",
    "    for acol in ['artist', 'Artist']:\n",
    "        if artist is not None and acol in df.columns:\n",
    "            if isinstance(artist, (list, tuple, set)):\n",
    "                df = df[df[acol].str.lower().isin([str(a).lower() for a in artist])]\n",
    "            else:\n",
    "                df = df[df[acol].str.lower().str.contains(str(artist).lower(), na=False)]\n",
    "            break\n",
    "\n",
    "    # Filtro por título\n",
    "    for tcol in ['title', 'Title']:\n",
    "        if title is not None and tcol in df.columns:\n",
    "            if isinstance(title, (list, tuple, set)):\n",
    "                mask = df[tcol].str.lower().isin([str(t).lower() for t in title])\n",
    "                df = df[mask]\n",
    "            else:\n",
    "                df = df[df[tcol].str.lower().str.contains(str(title).lower(), na=False)]\n",
    "            break\n",
    "\n",
    "    # Filtro por gêneros\n",
    "    for gcol in ['genres', 'Genres']:\n",
    "        if genres is not None and gcol in df.columns:\n",
    "            if isinstance(genres, (list, tuple, set)):\n",
    "                mask = df[gcol].str.lower().apply(lambda x: any(g.lower() in str(x) for g in genres))\n",
    "            else:\n",
    "                mask = df[gcol].str.lower().str.contains(str(genres).lower(), na=False)\n",
    "            df = df[mask]\n",
    "            break"
   ]
  },
  {
   "cell_type": "markdown",
   "id": "6763a4e4-ff0c-41c4-bde1-4b9ca6cb8613",
   "metadata": {},
   "source": [
    "# ===============================\n",
    "#    Exemplo de Uso \n",
    "# ==============================="
   ]
  },
  {
   "cell_type": "code",
   "execution_count": 15,
   "id": "fd2866b5-b1d6-4c57-81e5-482ae9e16261",
   "metadata": {},
   "outputs": [
    {
     "name": "stdout",
     "output_type": "stream",
     "text": [
      "Empty DataFrame\n",
      "Columns: [song_id, arousal, valence, split_40_30_30, split_70_15_15, Quadrant, AllMusic Id, AllMusic Extraction Date, Artist, Title, Relevance, Year, LowestYear, Duration, Moods, MoodsAll, MoodsAllWeights, Genres, GenreWeights, Themes, ThemeWeights, Styles, StyleWeights, AppearancesTrackIDs, AppearancesAlbumIDs, Sample, SampleURL, ActualYear, num_Genres, num_MoodsAll]\n",
      "Index: []\n",
      "\n",
      "[0 rows x 30 columns]\n"
     ]
    }
   ],
   "source": [
    "if __name__ == '__main__':\n",
    "    # Exemplo: carregando apenas músicas de treino do quadrante 1, ano 2010, gênero 'pop'\n",
    "    df = load_merge_master(\n",
    "        '../metadata/master_metadata_audio_balanced.csv',\n",
    "        split='train',\n",
    "        split_type='split_70_15_15',\n",
    "        quadrant=1,\n",
    "        year=2010,\n",
    "        genres='pop'\n",
    "    )\n",
    "print(df.head())\n",
    "\n"
   ]
  },
  {
   "cell_type": "code",
   "execution_count": 19,
   "id": "d527cc6f-5013-414f-8e0c-587d0ad013c3",
   "metadata": {},
   "outputs": [
    {
     "name": "stdout",
     "output_type": "stream",
     "text": [
      "           song_id         artist               title\n",
      "1129  MT0004230500  Adele Astaire  Fascinating Rhythm\n"
     ]
    }
   ],
   "source": [
    "# Exemplo: buscar músicas por artista 'adele'\n",
    "df_adele = load_merge_master(\n",
    "    '../metadata/master_metadata_audio_balanced.csv',\n",
    "    artist='adele'\n",
    ")\n",
    "print(df_adele[['song_id', 'artist', 'title']].head())"
   ]
  },
  {
   "cell_type": "code",
   "execution_count": 16,
   "id": "2f2698a1-1f53-4a88-9714-44885f531bfe",
   "metadata": {},
   "outputs": [
    {
     "name": "stdout",
     "output_type": "stream",
     "text": [
      "Empty DataFrame\n",
      "Columns: [song_id, arousal, valence, split_40_30_30, split_70_15_15, Quadrant, AllMusic Id, AllMusic Extraction Date, Artist, Title, Relevance, Year, LowestYear, Duration, Moods, MoodsAll, MoodsAllWeights, Genres, GenreWeights, Themes, ThemeWeights, Styles, StyleWeights, AppearancesTrackIDs, AppearancesAlbumIDs, Sample, SampleURL, ActualYear, num_Genres, num_MoodsAll]\n",
      "Index: []\n",
      "\n",
      "[0 rows x 30 columns]\n"
     ]
    }
   ],
   "source": [
    "# Exemplo de uso direto pelo terminal/python\n",
    "if __name__ == '__main__':\n",
    "    df = load_merge_master(\n",
    "        '../metadata/master_metadata_audio_balanced.csv',\n",
    "        split='train',\n",
    "        split_type='split_70_15_15',\n",
    "        quadrant=[1, 2],\n",
    "        year=2010,\n",
    "        artist='Adele',\n",
    "        genres='pop'\n",
    "    )\n",
    "    print(df.head())"
   ]
  },
  {
   "cell_type": "code",
   "execution_count": 17,
   "id": "f6aa8c78-85c8-43e3-b5a6-817867ccf059",
   "metadata": {},
   "outputs": [
    {
     "ename": "ModuleNotFoundError",
     "evalue": "No module named 'scripts.loader'",
     "output_type": "error",
     "traceback": [
      "\u001b[1;31m---------------------------------------------------------------------------\u001b[0m",
      "\u001b[1;31mModuleNotFoundError\u001b[0m                       Traceback (most recent call last)",
      "Cell \u001b[1;32mIn[17], line 1\u001b[0m\n\u001b[1;32m----> 1\u001b[0m \u001b[38;5;28;01mfrom\u001b[39;00m \u001b[38;5;21;01mscripts\u001b[39;00m\u001b[38;5;21;01m.\u001b[39;00m\u001b[38;5;21;01mloader\u001b[39;00m \u001b[38;5;28;01mimport\u001b[39;00m load_merge_master\n\u001b[0;32m      3\u001b[0m \u001b[38;5;66;03m# Carregar apenas os dados de treino do split 70/15/15 e quadrante 2\u001b[39;00m\n\u001b[0;32m      4\u001b[0m df \u001b[38;5;241m=\u001b[39m load_merge_master(\u001b[38;5;124m'\u001b[39m\u001b[38;5;124mmetadata/master_metadata_audio_balanced.csv\u001b[39m\u001b[38;5;124m'\u001b[39m, split\u001b[38;5;241m=\u001b[39m\u001b[38;5;124m'\u001b[39m\u001b[38;5;124mtrain\u001b[39m\u001b[38;5;124m'\u001b[39m, split_type\u001b[38;5;241m=\u001b[39m\u001b[38;5;124m'\u001b[39m\u001b[38;5;124msplit_70_15_15\u001b[39m\u001b[38;5;124m'\u001b[39m, quadrant\u001b[38;5;241m=\u001b[39m\u001b[38;5;241m2\u001b[39m)\n",
      "\u001b[1;31mModuleNotFoundError\u001b[0m: No module named 'scripts.loader'"
     ]
    }
   ],
   "source": [
    "from scripts.loader import load_merge_master\n",
    "\n",
    "# Carregar apenas os dados de treino do split 70/15/15 e quadrante 2\n",
    "df = load_merge_master('metadata/master_metadata_audio_balanced.csv', split='train', split_type='split_70_15_15', quadrant=2)\n",
    "print(df.head())"
   ]
  },
  {
   "cell_type": "code",
   "execution_count": null,
   "id": "bcf54abe-7a37-478f-b199-b39d5c715261",
   "metadata": {},
   "outputs": [],
   "source": []
  }
 ],
 "metadata": {
  "kernelspec": {
   "display_name": "Python [conda env:base] *",
   "language": "python",
   "name": "conda-base-py"
  },
  "language_info": {
   "codemirror_mode": {
    "name": "ipython",
    "version": 3
   },
   "file_extension": ".py",
   "mimetype": "text/x-python",
   "name": "python",
   "nbconvert_exporter": "python",
   "pygments_lexer": "ipython3",
   "version": "3.12.7"
  }
 },
 "nbformat": 4,
 "nbformat_minor": 5
}
