{
 "cells": [
  {
   "cell_type": "code",
   "execution_count": 1,
   "id": "c56829e5-233f-4baf-8598-952a3776d553",
   "metadata": {},
   "outputs": [],
   "source": [
    "import pandas as pd\n",
    "\n",
    "# Caminho base dos arquivos\n",
    "base_path = 'C:/Users/Lucas/Desktop/Master/Big Data/merge-dataset/MERGE_Lyrics_Complete/'"
   ]
  },
  {
   "cell_type": "code",
   "execution_count": 2,
   "id": "da3301e3-974b-47e1-8f69-1bb974b5903b",
   "metadata": {},
   "outputs": [],
   "source": [
    "# 1. Carregar metadados e renomear Song para song_id\n",
    "df_meta = pd.read_csv(base_path + 'merge_lyrics_complete_metadata.csv')\n",
    "if 'Song' in df_meta.columns:\n",
    "    df_meta = df_meta.rename(columns={'Song': 'song_id'})"
   ]
  },
  {
   "cell_type": "code",
   "execution_count": 3,
   "id": "2cc68445-cf67-4dc0-9a7f-d8147a6d2a3e",
   "metadata": {},
   "outputs": [],
   "source": [
    "# 2. Carregar valores de emoção\n",
    "df_av = pd.read_csv(base_path + 'merge_lyrics_complete_av_values.csv')\n",
    "if 'Song' in df_av.columns:\n",
    "    df_av = df_av.rename(columns={'Song': 'song_id'})\n",
    "df_av = df_av[['song_id', 'Arousal', 'Valence']]\n",
    "df_av.columns = ['song_id', 'arousal', 'valence']"
   ]
  },
  {
   "cell_type": "code",
   "execution_count": 4,
   "id": "6db16637-a3b7-45b1-8832-d6898dc4edf5",
   "metadata": {},
   "outputs": [],
   "source": [
    "# 3. Função para ler arquivos de split\n",
    "def load_split(split_files, split_names):\n",
    "    dfs = []\n",
    "    for file, split in zip(split_files, split_names):\n",
    "        df = pd.read_csv(file, header=None, names=['song_id'])\n",
    "        df['split'] = split\n",
    "        dfs.append(df)\n",
    "    return pd.concat(dfs, ignore_index=True)"
   ]
  },
  {
   "cell_type": "code",
   "execution_count": 5,
   "id": "ebfd1943-606a-408c-aa1a-5dde18cbb305",
   "metadata": {},
   "outputs": [],
   "source": [
    "# 4. Splits 40-30-30\n",
    "split_files_40 = [\n",
    "    base_path + 'tvt_dataframes/tvt_40_30_30/tvt_40_30_30_train_lyrics_complete.csv',\n",
    "    base_path + 'tvt_dataframes/tvt_40_30_30/tvt_40_30_30_validate_lyrics_complete.csv',\n",
    "    base_path + 'tvt_dataframes/tvt_40_30_30/tvt_40_30_30_test_lyrics_complete.csv'\n",
    "]\n",
    "split_names_40 = ['train', 'val', 'test']\n",
    "df_split_40 = load_split(split_files_40, split_names_40)\n",
    "df_split_40.columns = ['song_id', 'split_40_30_30']"
   ]
  },
  {
   "cell_type": "code",
   "execution_count": 6,
   "id": "efdcfae6-6eb6-45e0-b30c-9e965e1931c0",
   "metadata": {},
   "outputs": [],
   "source": [
    "# 5. Splits 70-15-15\n",
    "split_files_70 = [\n",
    "    base_path + 'tvt_dataframes/tvt_70_15_15/tvt_70_15_15_train_lyrics_complete.csv',\n",
    "    base_path + 'tvt_dataframes/tvt_70_15_15/tvt_70_15_15_validate_lyrics_complete.csv',\n",
    "    base_path + 'tvt_dataframes/tvt_70_15_15/tvt_70_15_15_test_lyrics_complete.csv'\n",
    "]\n",
    "split_names_70 = ['train', 'val', 'test']\n",
    "df_split_70 = load_split(split_files_70, split_names_70)\n",
    "df_split_70.columns = ['song_id', 'split_70_15_15']"
   ]
  },
  {
   "cell_type": "code",
   "execution_count": 7,
   "id": "389e7648-e38f-4fe8-8bdd-558e1299618f",
   "metadata": {},
   "outputs": [],
   "source": [
    "# 6. Merge dos dataframes\n",
    "df = df_meta.merge(df_av, on='song_id', how='left')\n",
    "df = df.merge(df_split_40, on='song_id', how='left')\n",
    "df = df.merge(df_split_70, on='song_id', how='left')"
   ]
  },
  {
   "cell_type": "code",
   "execution_count": 8,
   "id": "297bd34c-5300-4bb5-a395-49257d229160",
   "metadata": {},
   "outputs": [],
   "source": [
    "# 7. Ordenar colunas principais na frente\n",
    "first_cols = ['song_id', 'quadrant', 'arousal', 'valence', 'split_40_30_30', 'split_70_15_15']\n",
    "existing_first_cols = [col for col in first_cols if col in df.columns]\n",
    "df = df[existing_first_cols + [col for col in df.columns if col not in existing_first_cols]]"
   ]
  },
  {
   "cell_type": "code",
   "execution_count": 9,
   "id": "3b5245d3-c36d-4495-b212-a33d756d4578",
   "metadata": {},
   "outputs": [
    {
     "name": "stdout",
     "output_type": "stream",
     "text": [
      "Arquivo master_metadata_lyrics_complete.csv criado com sucesso!\n"
     ]
    }
   ],
   "source": [
    "# 8. Salvar\n",
    "df.to_csv('master_metadata_lyrics_complete.csv', index=False)\n",
    "print('Arquivo master_metadata_lyrics_complete.csv criado com sucesso!')"
   ]
  },
  {
   "cell_type": "code",
   "execution_count": null,
   "id": "c48651d2-bc8e-4326-ac7b-4995eccf588e",
   "metadata": {},
   "outputs": [],
   "source": []
  }
 ],
 "metadata": {
  "kernelspec": {
   "display_name": "Python [conda env:base] *",
   "language": "python",
   "name": "conda-base-py"
  },
  "language_info": {
   "codemirror_mode": {
    "name": "ipython",
    "version": 3
   },
   "file_extension": ".py",
   "mimetype": "text/x-python",
   "name": "python",
   "nbconvert_exporter": "python",
   "pygments_lexer": "ipython3",
   "version": "3.12.7"
  }
 },
 "nbformat": 4,
 "nbformat_minor": 5
}
